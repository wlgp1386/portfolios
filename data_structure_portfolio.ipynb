{
 "cells": [
  {
   "cell_type": "markdown",
   "metadata": {},
   "source": [
    "## recap\n",
    "\n",
    "* Data structure\n",
    "1) List/Array\n",
    "1. Ordered\n",
    "2. Mutable (can be modified or add/delete item value)\n",
    "3. values are stored in sequence (e.g. [])\n",
    "   \n",
    "2) Tuples\n",
    "1. Ordered\n",
    "2. Immutable (can't be modified and cannot add/delete item value)\n",
    "3. values are stored in ()\n",
    "\n",
    "3) Dictionary\n",
    "1. Unordered\n",
    "2. Mutable (can be modified or add/delete item value)\n",
    "3. key:value pairs are stored in {key:value}\n",
    "   \n",
    "4) Set\n",
    "1. Unordered\n",
    "2. Mutable (can be modified or add/delete item value)\n",
    "3. Can't contain duplicated values\n",
    "4. valus are stored in {}"
   ]
  },
  {
   "cell_type": "code",
   "execution_count": 29,
   "metadata": {},
   "outputs": [
    {
     "data": {
      "text/plain": [
       "['Andy', 'Moe', 'Lily', 'Lily', 'John']"
      ]
     },
     "execution_count": 29,
     "metadata": {},
     "output_type": "execute_result"
    }
   ],
   "source": [
    "# 1. List/Array\n",
    "students = ['Andy', 'Moe', 'Lily', 'Lily', 'John']\n",
    "students"
   ]
  },
  {
   "cell_type": "code",
   "execution_count": 31,
   "metadata": {},
   "outputs": [
    {
     "name": "stdout",
     "output_type": "stream",
     "text": [
      "Andy\n",
      "['Moe', 'Lily', 'Lily']\n"
     ]
    }
   ],
   "source": [
    "## accessing items in the list\n",
    "# print first element of students\n",
    "print(students[0])\n",
    "\n",
    "# print second to fourth element of students\n",
    "print(students[1:4])\n"
   ]
  },
  {
   "cell_type": "code",
   "execution_count": 32,
   "metadata": {},
   "outputs": [],
   "source": [
    "## adding items to the list -- append your name\n",
    "students.append(\"Joanne\")"
   ]
  },
  {
   "cell_type": "code",
   "execution_count": 33,
   "metadata": {},
   "outputs": [
    {
     "data": {
      "text/plain": [
       "'Joanne'"
      ]
     },
     "execution_count": 33,
     "metadata": {},
     "output_type": "execute_result"
    }
   ],
   "source": [
    "## now remove your name from the list\n",
    "students.pop(-1)"
   ]
  },
  {
   "cell_type": "code",
   "execution_count": 34,
   "metadata": {},
   "outputs": [
    {
     "data": {
      "text/plain": [
       "['Andy', 'Julia', 'Lily', 'Lily', 'John']"
      ]
     },
     "execution_count": 34,
     "metadata": {},
     "output_type": "execute_result"
    }
   ],
   "source": [
    "## replacing items in the list\n",
    "# replace 2nd value with Julia\n",
    "students[1]= \"Julia\"\n",
    "students"
   ]
  },
  {
   "cell_type": "code",
   "execution_count": 35,
   "metadata": {},
   "outputs": [
    {
     "name": "stdout",
     "output_type": "stream",
     "text": [
      "['Andy', 'John', 'Julia', 'Lily', 'Lily']\n",
      "['Lily', 'Lily', 'Julia', 'John', 'Andy']\n"
     ]
    },
    {
     "data": {
      "text/plain": [
       "['Andy', 'John', 'Julia', 'Lily', 'Lily']"
      ]
     },
     "execution_count": 35,
     "metadata": {},
     "output_type": "execute_result"
    }
   ],
   "source": [
    "## sorting items in the list (ascending order)\n",
    "students.sort()\n",
    "print(students)\n",
    "\n",
    "## sorting items in the list (descending order)\n",
    "students.sort(reverse = True)\n",
    "print(students)\n",
    "\n",
    "## below statement sort items in the list and then show output\n",
    "sorted(students)"
   ]
  },
  {
   "cell_type": "code",
   "execution_count": 37,
   "metadata": {},
   "outputs": [],
   "source": [
    "## delete the list entirely\n",
    "del students"
   ]
  },
  {
   "cell_type": "code",
   "execution_count": 113,
   "metadata": {},
   "outputs": [
    {
     "name": "stdout",
     "output_type": "stream",
     "text": [
      "[1, 2, 3, 5]\n",
      "[6 7 8]\n"
     ]
    }
   ],
   "source": [
    "## BONUS: difference b/w list and array (array can perform arithmatic operation while list cannot)\n",
    "import numpy as np\n",
    "test_list = [1,2,3]\n",
    "test_array = np.array(test_list)\n",
    "\n",
    "# we can also concetenate list this way\n",
    "print(test_list + [5])\n",
    "### however, as you can see, it is not arithmatically added -- it is \"appended\"\n",
    "\n",
    "# array, on the other hands, can add the list of values arithmatically!\n",
    "print(test_array + 5)"
   ]
  },
  {
   "cell_type": "code",
   "execution_count": 38,
   "metadata": {},
   "outputs": [
    {
     "data": {
      "text/plain": [
       "(5001, 5001, 5003, 5005)"
      ]
     },
     "execution_count": 38,
     "metadata": {},
     "output_type": "execute_result"
    }
   ],
   "source": [
    "# 2. Tuples\n",
    "codes = (5001, 5001, 5003, 5005)\n",
    "codes"
   ]
  },
  {
   "cell_type": "code",
   "execution_count": 41,
   "metadata": {},
   "outputs": [
    {
     "name": "stdout",
     "output_type": "stream",
     "text": [
      "5001\n",
      "(5001, 5003)\n"
     ]
    }
   ],
   "source": [
    "## accessing items in the tuple\n",
    "# print first element of codes\n",
    "print(codes[0])\n",
    "\n",
    "# print 2nd to 3rd element of codes\n",
    "print(codes[1:3])"
   ]
  },
  {
   "cell_type": "code",
   "execution_count": 43,
   "metadata": {},
   "outputs": [
    {
     "data": {
      "text/plain": [
       "[5001, 5001, 5003, 5005]"
      ]
     },
     "execution_count": 43,
     "metadata": {},
     "output_type": "execute_result"
    }
   ],
   "source": [
    "## sort values in the tuple\n",
    "sorted(codes)"
   ]
  },
  {
   "cell_type": "code",
   "execution_count": 47,
   "metadata": {},
   "outputs": [],
   "source": [
    "## tuple assignment\n",
    "# Can assign multiple items/values to variables at once using tuple\n",
    "#a = 1\n",
    "#b = 2\n",
    "#c = 3\n",
    "\n",
    "## (56,555543, -54.65645656)\n",
    "a, b, c = (1,2,3)"
   ]
  },
  {
   "cell_type": "code",
   "execution_count": 48,
   "metadata": {},
   "outputs": [
    {
     "name": "stdout",
     "output_type": "stream",
     "text": [
      "(1, 2, 3, 50, 60, 70)\n"
     ]
    }
   ],
   "source": [
    "## concetenation\n",
    "# even if we cannot modify an existing tuple, we can concetenate two tuples\n",
    "test1 = (1,2,3)\n",
    "test2 = test1 + (50,60,70)\n",
    "print(test2)"
   ]
  },
  {
   "cell_type": "code",
   "execution_count": 50,
   "metadata": {},
   "outputs": [
    {
     "data": {
      "text/plain": [
       "{'studentID': 1, 'name': 'Andy'}"
      ]
     },
     "execution_count": 50,
     "metadata": {},
     "output_type": "execute_result"
    }
   ],
   "source": [
    "# 3. dictionaries\n",
    "school = {\"studentID\":1, \"name\": 'Andy'}\n",
    "school"
   ]
  },
  {
   "cell_type": "code",
   "execution_count": 52,
   "metadata": {},
   "outputs": [
    {
     "data": {
      "text/plain": [
       "1"
      ]
     },
     "execution_count": 52,
     "metadata": {},
     "output_type": "execute_result"
    }
   ],
   "source": [
    "## accessing values by using key (studedID)\n",
    "school['studentID']"
   ]
  },
  {
   "cell_type": "code",
   "execution_count": 54,
   "metadata": {},
   "outputs": [
    {
     "name": "stdout",
     "output_type": "stream",
     "text": [
      "dict_keys(['studentID', 'name'])\n",
      "dict_values([1, 'Andy'])\n"
     ]
    }
   ],
   "source": [
    "## view keys\n",
    "print(school.keys())\n",
    "\n",
    "## view values\n",
    "print(school.values())"
   ]
  },
  {
   "cell_type": "code",
   "execution_count": 56,
   "metadata": {},
   "outputs": [
    {
     "data": {
      "text/plain": [
       "{'studentID': 1, 'name': 'Andy', 'grade': 98}"
      ]
     },
     "execution_count": 56,
     "metadata": {},
     "output_type": "execute_result"
    }
   ],
   "source": [
    "## adding key:value pair\n",
    "# key = grade, value = 98\n",
    "school['grade']=98\n",
    "school"
   ]
  },
  {
   "cell_type": "code",
   "execution_count": 58,
   "metadata": {},
   "outputs": [
    {
     "data": {
      "text/plain": [
       "98"
      ]
     },
     "execution_count": 58,
     "metadata": {},
     "output_type": "execute_result"
    }
   ],
   "source": [
    "## deleting key:value pair\n",
    "# grade / 98\n",
    "school.pop('grade')"
   ]
  },
  {
   "cell_type": "code",
   "execution_count": 72,
   "metadata": {},
   "outputs": [
    {
     "data": {
      "text/plain": [
       "{'studentID': [1, 2, 3, 4, 5],\n",
       " 'name': ['Andy', 'Julia', 'Sally', 'Mike', 'John']}"
      ]
     },
     "execution_count": 72,
     "metadata": {},
     "output_type": "execute_result"
    }
   ],
   "source": [
    "## store key:value pair in the list\n",
    "school2 = {\"studentID\":[1,2,3,4,5], \"name\":[\"Andy\",\"Julia\", \"Sally\",\"Mike\",\"John\"]} #, \"name\":[]}\n",
    "school2"
   ]
  },
  {
   "cell_type": "code",
   "execution_count": 65,
   "metadata": {},
   "outputs": [],
   "source": [
    "## adding key:value pair in the list\n",
    "## key =  grade, value = ?\n",
    "school2['grade']=[24,35,46,57,68]"
   ]
  },
  {
   "cell_type": "code",
   "execution_count": 66,
   "metadata": {},
   "outputs": [
    {
     "data": {
      "text/plain": [
       "{'studentID': [1, 2, 3, 4, 5],\n",
       " 'name': ['Andy', 'Julia', 'Sally', 'Mike', 'John'],\n",
       " 'grade': [24, 35, 46, 57, 68]}"
      ]
     },
     "execution_count": 66,
     "metadata": {},
     "output_type": "execute_result"
    }
   ],
   "source": [
    "school2"
   ]
  },
  {
   "cell_type": "code",
   "execution_count": 67,
   "metadata": {},
   "outputs": [
    {
     "data": {
      "text/html": [
       "<div>\n",
       "<style scoped>\n",
       "    .dataframe tbody tr th:only-of-type {\n",
       "        vertical-align: middle;\n",
       "    }\n",
       "\n",
       "    .dataframe tbody tr th {\n",
       "        vertical-align: top;\n",
       "    }\n",
       "\n",
       "    .dataframe thead th {\n",
       "        text-align: right;\n",
       "    }\n",
       "</style>\n",
       "<table border=\"1\" class=\"dataframe\">\n",
       "  <thead>\n",
       "    <tr style=\"text-align: right;\">\n",
       "      <th></th>\n",
       "      <th>studentID</th>\n",
       "      <th>name</th>\n",
       "      <th>grade</th>\n",
       "    </tr>\n",
       "  </thead>\n",
       "  <tbody>\n",
       "    <tr>\n",
       "      <th>0</th>\n",
       "      <td>1</td>\n",
       "      <td>Andy</td>\n",
       "      <td>24</td>\n",
       "    </tr>\n",
       "    <tr>\n",
       "      <th>1</th>\n",
       "      <td>2</td>\n",
       "      <td>Julia</td>\n",
       "      <td>35</td>\n",
       "    </tr>\n",
       "    <tr>\n",
       "      <th>2</th>\n",
       "      <td>3</td>\n",
       "      <td>Sally</td>\n",
       "      <td>46</td>\n",
       "    </tr>\n",
       "    <tr>\n",
       "      <th>3</th>\n",
       "      <td>4</td>\n",
       "      <td>Mike</td>\n",
       "      <td>57</td>\n",
       "    </tr>\n",
       "    <tr>\n",
       "      <th>4</th>\n",
       "      <td>5</td>\n",
       "      <td>John</td>\n",
       "      <td>68</td>\n",
       "    </tr>\n",
       "  </tbody>\n",
       "</table>\n",
       "</div>"
      ],
      "text/plain": [
       "   studentID   name  grade\n",
       "0          1   Andy     24\n",
       "1          2  Julia     35\n",
       "2          3  Sally     46\n",
       "3          4   Mike     57\n",
       "4          5   John     68"
      ]
     },
     "execution_count": 67,
     "metadata": {},
     "output_type": "execute_result"
    }
   ],
   "source": [
    "## BONUS: convert to dataframe\n",
    "import pandas as pd\n",
    "pd.DataFrame(school2)\n",
    "\n",
    "## what can we learn?\n",
    "### dataframe is nothing but application of dictionary! (column name - key, column values - list of values in key)"
   ]
  },
  {
   "cell_type": "code",
   "execution_count": 94,
   "metadata": {},
   "outputs": [
    {
     "data": {
      "text/plain": [
       "{'Andy', 'Jane', 'Julia'}"
      ]
     },
     "execution_count": 94,
     "metadata": {},
     "output_type": "execute_result"
    }
   ],
   "source": [
    "# 4. set\n",
    "names = {\"Andy\",\"Andy\",\"Jane\",\"Julia\"}\n",
    "names"
   ]
  },
  {
   "cell_type": "code",
   "execution_count": 95,
   "metadata": {},
   "outputs": [
    {
     "data": {
      "text/plain": [
       "{'Andy', 'Gita', 'Jane', 'Julia'}"
      ]
     },
     "execution_count": 95,
     "metadata": {},
     "output_type": "execute_result"
    }
   ],
   "source": [
    "## adding item to the set\n",
    "names.add('Gita')\n",
    "names"
   ]
  },
  {
   "cell_type": "code",
   "execution_count": 96,
   "metadata": {},
   "outputs": [
    {
     "data": {
      "text/plain": [
       "{'Abc', 'Andy', 'Gita', 'Jane', 'Julia', 'Tey'}"
      ]
     },
     "execution_count": 96,
     "metadata": {},
     "output_type": "execute_result"
    }
   ],
   "source": [
    "## adding item(s) to the set\n",
    "names.update(['Abc','Tey'])\n",
    "names"
   ]
  },
  {
   "cell_type": "code",
   "execution_count": 97,
   "metadata": {},
   "outputs": [
    {
     "data": {
      "text/plain": [
       "{'Andy', 'Gita', 'Jane', 'Julia', 'Tey'}"
      ]
     },
     "execution_count": 97,
     "metadata": {},
     "output_type": "execute_result"
    }
   ],
   "source": [
    "## removing item from the set\n",
    "names.remove('Abc')\n",
    "names"
   ]
  },
  {
   "cell_type": "code",
   "execution_count": 90,
   "metadata": {},
   "outputs": [],
   "source": [
    "## math operation on sets\n",
    "names2 = {\"Andy\", \"Gita\", \"John\"}"
   ]
  },
  {
   "cell_type": "code",
   "execution_count": 91,
   "metadata": {},
   "outputs": [
    {
     "data": {
      "text/plain": [
       "{'Andy', 'Gita'}"
      ]
     },
     "execution_count": 91,
     "metadata": {},
     "output_type": "execute_result"
    }
   ],
   "source": [
    "## intersection bw names and names2\n",
    "names.intersection(names2)"
   ]
  },
  {
   "cell_type": "code",
   "execution_count": 92,
   "metadata": {},
   "outputs": [
    {
     "data": {
      "text/plain": [
       "{'Andy', 'Gita', 'Jane', 'John', 'Julia', 'Tey'}"
      ]
     },
     "execution_count": 92,
     "metadata": {},
     "output_type": "execute_result"
    }
   ],
   "source": [
    "## union b/w names and names2\n",
    "names.union(names2)"
   ]
  },
  {
   "cell_type": "code",
   "execution_count": 98,
   "metadata": {},
   "outputs": [
    {
     "data": {
      "text/plain": [
       "False"
      ]
     },
     "execution_count": 98,
     "metadata": {},
     "output_type": "execute_result"
    }
   ],
   "source": [
    "## check if names is subset of names2\n",
    "names.issubset(names2)"
   ]
  },
  {
   "cell_type": "code",
   "execution_count": 99,
   "metadata": {},
   "outputs": [
    {
     "data": {
      "text/plain": [
       "False"
      ]
     },
     "execution_count": 99,
     "metadata": {},
     "output_type": "execute_result"
    }
   ],
   "source": [
    "## check if names2 is subset of names\n",
    "names2.issubset(names)"
   ]
  },
  {
   "cell_type": "code",
   "execution_count": 102,
   "metadata": {},
   "outputs": [
    {
     "data": {
      "text/plain": [
       "True"
      ]
     },
     "execution_count": 102,
     "metadata": {},
     "output_type": "execute_result"
    }
   ],
   "source": [
    "names3 = {\"Andy\",\"Gita\",\"Tey\"}\n",
    "## check if names3 is subset of names\n",
    "names3.issubset(names)"
   ]
  },
  {
   "cell_type": "code",
   "execution_count": 103,
   "metadata": {},
   "outputs": [
    {
     "data": {
      "text/plain": [
       "False"
      ]
     },
     "execution_count": 103,
     "metadata": {},
     "output_type": "execute_result"
    }
   ],
   "source": [
    "## check if names is subset of names3\n",
    "names.issubset(names3)"
   ]
  },
  {
   "cell_type": "code",
   "execution_count": null,
   "metadata": {},
   "outputs": [],
   "source": [
    "## Bonus - superset??"
   ]
  },
  {
   "cell_type": "code",
   "execution_count": 104,
   "metadata": {},
   "outputs": [
    {
     "name": "stdout",
     "output_type": "stream",
     "text": [
      "{'Julia', 'Jane', 'Andy', 'Tey', 'Gita'}\n",
      "{'John', 'Andy', 'Gita'}\n"
     ]
    }
   ],
   "source": [
    "## Check difference between name and names2\n",
    "print(names)\n",
    "print(names2)"
   ]
  },
  {
   "cell_type": "code",
   "execution_count": 105,
   "metadata": {},
   "outputs": [
    {
     "data": {
      "text/plain": [
       "{'Jane', 'Julia', 'Tey'}"
      ]
     },
     "execution_count": 105,
     "metadata": {},
     "output_type": "execute_result"
    }
   ],
   "source": [
    "names.difference(names2)"
   ]
  },
  {
   "cell_type": "code",
   "execution_count": 106,
   "metadata": {},
   "outputs": [
    {
     "data": {
      "text/plain": [
       "{'John'}"
      ]
     },
     "execution_count": 106,
     "metadata": {},
     "output_type": "execute_result"
    }
   ],
   "source": [
    "## Check difference between names2 and names\n",
    "names2.difference(names)"
   ]
  }
 ],
 "metadata": {
  "kernelspec": {
   "display_name": "Python 3 (ipykernel)",
   "language": "python",
   "name": "python3"
  },
  "language_info": {
   "codemirror_mode": {
    "name": "ipython",
    "version": 3
   },
   "file_extension": ".py",
   "mimetype": "text/x-python",
   "name": "python",
   "nbconvert_exporter": "python",
   "pygments_lexer": "ipython3",
   "version": "3.10.9"
  }
 },
 "nbformat": 4,
 "nbformat_minor": 4
}
