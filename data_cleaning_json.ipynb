{
 "cells": [
  {
   "cell_type": "code",
   "execution_count": null,
   "id": "8bb528e2-59d5-4aac-ac8c-7358f74d5cfd",
   "metadata": {},
   "outputs": [],
   "source": [
    "### 505 course - practical version"
   ]
  },
  {
   "cell_type": "code",
   "execution_count": 106,
   "id": "b92269be-c24f-40c9-b9ca-81db750f87ff",
   "metadata": {},
   "outputs": [
    {
     "data": {
      "text/plain": [
       "5"
      ]
     },
     "execution_count": 106,
     "metadata": {},
     "output_type": "execute_result"
    }
   ],
   "source": [
    "# Q1. calculate number of characters in the string\n",
    "example_string = \"Amy is 5 years old\"\n",
    "len(example_string.split(\" \"))"
   ]
  },
  {
   "cell_type": "code",
   "execution_count": 107,
   "id": "6670279c-4cd1-490a-a923-6c36df6f29d9",
   "metadata": {},
   "outputs": [],
   "source": [
    "# Q2. create user defined function to calculate number of words in the string\n",
    "## input: string\n",
    "## output: number of words in the string\n",
    "def string_to_number(x):\n",
    "    return len(x.split(\" \"))"
   ]
  },
  {
   "cell_type": "code",
   "execution_count": 108,
   "id": "bd45ffff-e8ea-46bd-959d-3ba0f6cb0f74",
   "metadata": {},
   "outputs": [
    {
     "data": {
      "text/plain": [
       "4"
      ]
     },
     "execution_count": 108,
     "metadata": {},
     "output_type": "execute_result"
    }
   ],
   "source": [
    "string_to_number(\"My cat is Limo\")"
   ]
  },
  {
   "cell_type": "code",
   "execution_count": 6,
   "id": "28f3553d-b633-4f61-af70-5dd2445f292d",
   "metadata": {},
   "outputs": [],
   "source": [
    "# From JSON -> Dictionary -> Pandas"
   ]
  },
  {
   "cell_type": "code",
   "execution_count": 111,
   "id": "c3b7d409-c342-4c18-8a43-3178e737183f",
   "metadata": {},
   "outputs": [],
   "source": [
    "import json\n",
    "import requests\n",
    "import pandas as pd\n",
    "\n",
    "response = requests.get('https://api.covid19india.org/state_district_wise.json')\n",
    "#print(response.status_code)\n",
    "json_file = response.json()"
   ]
  },
  {
   "cell_type": "code",
   "execution_count": 115,
   "id": "6e6a8a3f-d050-414d-8bac-3dade71d9b6c",
   "metadata": {},
   "outputs": [
    {
     "data": {
      "text/plain": [
       "dict_keys(['State Unassigned', 'Andaman and Nicobar Islands', 'Andhra Pradesh', 'Arunachal Pradesh', 'Assam', 'Bihar', 'Chandigarh', 'Chhattisgarh', 'Delhi', 'Dadra and Nagar Haveli and Daman and Diu', 'Goa', 'Gujarat', 'Himachal Pradesh', 'Haryana', 'Jharkhand', 'Jammu and Kashmir', 'Karnataka', 'Kerala', 'Ladakh', 'Lakshadweep', 'Maharashtra', 'Meghalaya', 'Manipur', 'Madhya Pradesh', 'Mizoram', 'Nagaland', 'Odisha', 'Punjab', 'Puducherry', 'Rajasthan', 'Sikkim', 'Telangana', 'Tamil Nadu', 'Tripura', 'Uttar Pradesh', 'Uttarakhand', 'West Bengal'])"
      ]
     },
     "execution_count": 115,
     "metadata": {},
     "output_type": "execute_result"
    }
   ],
   "source": [
    "json_file.keys()"
   ]
  },
  {
   "cell_type": "code",
   "execution_count": 118,
   "id": "37425941-da59-4876-afc7-11ef303b9774",
   "metadata": {},
   "outputs": [
    {
     "data": {
      "text/plain": [
       "dict_keys(['Amritsar', 'Barnala', 'Bathinda', 'Faridkot', 'Fatehgarh Sahib', 'Fazilka', 'Ferozepur', 'Gurdaspur', 'Hoshiarpur', 'Jalandhar', 'Kapurthala', 'Ludhiana', 'Mansa', 'Moga', 'Pathankot', 'Patiala', 'Rupnagar', 'S.A.S. Nagar', 'Sangrur', 'Shahid Bhagat Singh Nagar', 'Sri Muktsar Sahib', 'Tarn Taran'])"
      ]
     },
     "execution_count": 118,
     "metadata": {},
     "output_type": "execute_result"
    }
   ],
   "source": [
    "json_file['Punjab']['districtData'].keys()"
   ]
  },
  {
   "cell_type": "code",
   "execution_count": 122,
   "id": "5aff7151-562b-423e-b191-27c79dc6c3f3",
   "metadata": {},
   "outputs": [
    {
     "name": "stdout",
     "output_type": "stream",
     "text": [
      "4\n"
     ]
    }
   ],
   "source": [
    "## new Q1, how many districts are in 'Goa'?\n",
    "print(len(json_file['Goa']['districtData'].keys()))"
   ]
  },
  {
   "cell_type": "code",
   "execution_count": 137,
   "id": "cf0e223d-9c8b-4777-924e-50db6e6f9af4",
   "metadata": {},
   "outputs": [
    {
     "data": {
      "text/plain": [
       "{'State Unassigned': 1,\n",
       " 'Andaman and Nicobar Islands': 4,\n",
       " 'Andhra Pradesh': 15,\n",
       " 'Arunachal Pradesh': 25,\n",
       " 'Assam': 36,\n",
       " 'Bihar': 38,\n",
       " 'Chandigarh': 1,\n",
       " 'Chhattisgarh': 29,\n",
       " 'Delhi': 12,\n",
       " 'Dadra and Nagar Haveli and Daman and Diu': 4,\n",
       " 'Goa': 4,\n",
       " 'Gujarat': 34,\n",
       " 'Himachal Pradesh': 12,\n",
       " 'Haryana': 24,\n",
       " 'Jharkhand': 24,\n",
       " 'Jammu and Kashmir': 22,\n",
       " 'Karnataka': 31,\n",
       " 'Kerala': 15,\n",
       " 'Ladakh': 2,\n",
       " 'Lakshadweep': 2,\n",
       " 'Maharashtra': 37,\n",
       " 'Meghalaya': 11,\n",
       " 'Manipur': 18,\n",
       " 'Madhya Pradesh': 54,\n",
       " 'Mizoram': 11,\n",
       " 'Nagaland': 12,\n",
       " 'Odisha': 32,\n",
       " 'Punjab': 22,\n",
       " 'Puducherry': 4,\n",
       " 'Rajasthan': 37,\n",
       " 'Sikkim': 5,\n",
       " 'Telangana': 36,\n",
       " 'Tamil Nadu': 41,\n",
       " 'Tripura': 8,\n",
       " 'Uttar Pradesh': 75,\n",
       " 'Uttarakhand': 13,\n",
       " 'West Bengal': 24}"
      ]
     },
     "execution_count": 137,
     "metadata": {},
     "output_type": "execute_result"
    }
   ],
   "source": [
    "### Q2, how many districts are there for each state? HINT: print like \"Goa:4\", use for loop\n",
    "dds={}\n",
    "for i in json_file:\n",
    "    dds[i]=len(json_file[i]['districtData'].keys())\n",
    "#    print(dds)\n",
    "dds"
   ]
  },
  {
   "cell_type": "code",
   "execution_count": 141,
   "id": "a1b8da0d-0f73-438f-8e08-046add59bc27",
   "metadata": {},
   "outputs": [],
   "source": [
    "#pd.DataFrame(dds,[0]).T"
   ]
  },
  {
   "cell_type": "code",
   "execution_count": 136,
   "id": "8b8d1235-0cec-49b6-af97-f1c4eaba7fd0",
   "metadata": {},
   "outputs": [],
   "source": [
    "#dds"
   ]
  },
  {
   "cell_type": "code",
   "execution_count": 147,
   "id": "dbbe1c2a-f0ce-4eaa-9f3e-35db1eaf9379",
   "metadata": {},
   "outputs": [],
   "source": [
    "### Q3. convert above output as pandas data frame - HINT: column_name = \"State\", \"cnt_district\"\n",
    "######################################################################## \"goa\", 4\n",
    "### {\"state\":[],cnt:[]}\n",
    "red = {'state': [], 'cnt_district': []}\n",
    "for i in json_file:\n",
    "    red['state'].append(i)\n",
    "    red['cnt_district'].append(len(json_file[i]['districtData'].keys()))\n",
    "\n",
    "df_test = pd.DataFrame(red)"
   ]
  },
  {
   "cell_type": "code",
   "execution_count": 149,
   "id": "56a4d963-ab7b-47c2-9ff4-043cf55fd0ae",
   "metadata": {},
   "outputs": [],
   "source": [
    "## Q4. save it to_csv file called \"state_summary\" with index = False\n",
    "df_test.to_csv('state_summary.csv', index = False)"
   ]
  },
  {
   "cell_type": "code",
   "execution_count": 196,
   "id": "7274294a-8053-4062-bbba-76986b8f41d1",
   "metadata": {},
   "outputs": [
    {
     "data": {
      "text/html": [
       "<div>\n",
       "<style scoped>\n",
       "    .dataframe tbody tr th:only-of-type {\n",
       "        vertical-align: middle;\n",
       "    }\n",
       "\n",
       "    .dataframe tbody tr th {\n",
       "        vertical-align: top;\n",
       "    }\n",
       "\n",
       "    .dataframe thead th {\n",
       "        text-align: right;\n",
       "    }\n",
       "</style>\n",
       "<table border=\"1\" class=\"dataframe\">\n",
       "  <thead>\n",
       "    <tr style=\"text-align: right;\">\n",
       "      <th></th>\n",
       "      <th>state</th>\n",
       "      <th>cnt_district</th>\n",
       "    </tr>\n",
       "  </thead>\n",
       "  <tbody>\n",
       "    <tr>\n",
       "      <th>0</th>\n",
       "      <td>State Unassigned</td>\n",
       "      <td>1</td>\n",
       "    </tr>\n",
       "    <tr>\n",
       "      <th>1</th>\n",
       "      <td>Andaman and Nicobar Islands</td>\n",
       "      <td>4</td>\n",
       "    </tr>\n",
       "    <tr>\n",
       "      <th>2</th>\n",
       "      <td>Andhra Pradesh</td>\n",
       "      <td>15</td>\n",
       "    </tr>\n",
       "    <tr>\n",
       "      <th>3</th>\n",
       "      <td>Arunachal Pradesh</td>\n",
       "      <td>25</td>\n",
       "    </tr>\n",
       "    <tr>\n",
       "      <th>4</th>\n",
       "      <td>Assam</td>\n",
       "      <td>36</td>\n",
       "    </tr>\n",
       "    <tr>\n",
       "      <th>5</th>\n",
       "      <td>Bihar</td>\n",
       "      <td>38</td>\n",
       "    </tr>\n",
       "    <tr>\n",
       "      <th>6</th>\n",
       "      <td>Chandigarh</td>\n",
       "      <td>1</td>\n",
       "    </tr>\n",
       "    <tr>\n",
       "      <th>7</th>\n",
       "      <td>Chhattisgarh</td>\n",
       "      <td>29</td>\n",
       "    </tr>\n",
       "    <tr>\n",
       "      <th>8</th>\n",
       "      <td>Delhi</td>\n",
       "      <td>12</td>\n",
       "    </tr>\n",
       "    <tr>\n",
       "      <th>9</th>\n",
       "      <td>Dadra and Nagar Haveli and Daman and Diu</td>\n",
       "      <td>4</td>\n",
       "    </tr>\n",
       "    <tr>\n",
       "      <th>10</th>\n",
       "      <td>Goa</td>\n",
       "      <td>4</td>\n",
       "    </tr>\n",
       "    <tr>\n",
       "      <th>11</th>\n",
       "      <td>Gujarat</td>\n",
       "      <td>34</td>\n",
       "    </tr>\n",
       "    <tr>\n",
       "      <th>12</th>\n",
       "      <td>Himachal Pradesh</td>\n",
       "      <td>12</td>\n",
       "    </tr>\n",
       "    <tr>\n",
       "      <th>13</th>\n",
       "      <td>Haryana</td>\n",
       "      <td>24</td>\n",
       "    </tr>\n",
       "    <tr>\n",
       "      <th>14</th>\n",
       "      <td>Jharkhand</td>\n",
       "      <td>24</td>\n",
       "    </tr>\n",
       "    <tr>\n",
       "      <th>15</th>\n",
       "      <td>Jammu and Kashmir</td>\n",
       "      <td>22</td>\n",
       "    </tr>\n",
       "    <tr>\n",
       "      <th>16</th>\n",
       "      <td>Karnataka</td>\n",
       "      <td>31</td>\n",
       "    </tr>\n",
       "    <tr>\n",
       "      <th>17</th>\n",
       "      <td>Kerala</td>\n",
       "      <td>15</td>\n",
       "    </tr>\n",
       "    <tr>\n",
       "      <th>18</th>\n",
       "      <td>Ladakh</td>\n",
       "      <td>2</td>\n",
       "    </tr>\n",
       "    <tr>\n",
       "      <th>19</th>\n",
       "      <td>Lakshadweep</td>\n",
       "      <td>2</td>\n",
       "    </tr>\n",
       "    <tr>\n",
       "      <th>20</th>\n",
       "      <td>Maharashtra</td>\n",
       "      <td>37</td>\n",
       "    </tr>\n",
       "    <tr>\n",
       "      <th>21</th>\n",
       "      <td>Meghalaya</td>\n",
       "      <td>11</td>\n",
       "    </tr>\n",
       "    <tr>\n",
       "      <th>22</th>\n",
       "      <td>Manipur</td>\n",
       "      <td>18</td>\n",
       "    </tr>\n",
       "    <tr>\n",
       "      <th>23</th>\n",
       "      <td>Madhya Pradesh</td>\n",
       "      <td>54</td>\n",
       "    </tr>\n",
       "    <tr>\n",
       "      <th>24</th>\n",
       "      <td>Mizoram</td>\n",
       "      <td>11</td>\n",
       "    </tr>\n",
       "    <tr>\n",
       "      <th>25</th>\n",
       "      <td>Nagaland</td>\n",
       "      <td>12</td>\n",
       "    </tr>\n",
       "    <tr>\n",
       "      <th>26</th>\n",
       "      <td>Odisha</td>\n",
       "      <td>32</td>\n",
       "    </tr>\n",
       "    <tr>\n",
       "      <th>27</th>\n",
       "      <td>Punjab</td>\n",
       "      <td>22</td>\n",
       "    </tr>\n",
       "    <tr>\n",
       "      <th>28</th>\n",
       "      <td>Puducherry</td>\n",
       "      <td>4</td>\n",
       "    </tr>\n",
       "    <tr>\n",
       "      <th>29</th>\n",
       "      <td>Rajasthan</td>\n",
       "      <td>37</td>\n",
       "    </tr>\n",
       "    <tr>\n",
       "      <th>30</th>\n",
       "      <td>Sikkim</td>\n",
       "      <td>5</td>\n",
       "    </tr>\n",
       "    <tr>\n",
       "      <th>31</th>\n",
       "      <td>Telangana</td>\n",
       "      <td>36</td>\n",
       "    </tr>\n",
       "    <tr>\n",
       "      <th>32</th>\n",
       "      <td>Tamil Nadu</td>\n",
       "      <td>41</td>\n",
       "    </tr>\n",
       "    <tr>\n",
       "      <th>33</th>\n",
       "      <td>Tripura</td>\n",
       "      <td>8</td>\n",
       "    </tr>\n",
       "    <tr>\n",
       "      <th>34</th>\n",
       "      <td>Uttar Pradesh</td>\n",
       "      <td>75</td>\n",
       "    </tr>\n",
       "    <tr>\n",
       "      <th>35</th>\n",
       "      <td>Uttarakhand</td>\n",
       "      <td>13</td>\n",
       "    </tr>\n",
       "    <tr>\n",
       "      <th>36</th>\n",
       "      <td>West Bengal</td>\n",
       "      <td>24</td>\n",
       "    </tr>\n",
       "  </tbody>\n",
       "</table>\n",
       "</div>"
      ],
      "text/plain": [
       "                                       state  cnt_district\n",
       "0                           State Unassigned             1\n",
       "1                Andaman and Nicobar Islands             4\n",
       "2                             Andhra Pradesh            15\n",
       "3                          Arunachal Pradesh            25\n",
       "4                                      Assam            36\n",
       "5                                      Bihar            38\n",
       "6                                 Chandigarh             1\n",
       "7                               Chhattisgarh            29\n",
       "8                                      Delhi            12\n",
       "9   Dadra and Nagar Haveli and Daman and Diu             4\n",
       "10                                       Goa             4\n",
       "11                                   Gujarat            34\n",
       "12                          Himachal Pradesh            12\n",
       "13                                   Haryana            24\n",
       "14                                 Jharkhand            24\n",
       "15                         Jammu and Kashmir            22\n",
       "16                                 Karnataka            31\n",
       "17                                    Kerala            15\n",
       "18                                    Ladakh             2\n",
       "19                               Lakshadweep             2\n",
       "20                               Maharashtra            37\n",
       "21                                 Meghalaya            11\n",
       "22                                   Manipur            18\n",
       "23                            Madhya Pradesh            54\n",
       "24                                   Mizoram            11\n",
       "25                                  Nagaland            12\n",
       "26                                    Odisha            32\n",
       "27                                    Punjab            22\n",
       "28                                Puducherry             4\n",
       "29                                 Rajasthan            37\n",
       "30                                    Sikkim             5\n",
       "31                                 Telangana            36\n",
       "32                                Tamil Nadu            41\n",
       "33                                   Tripura             8\n",
       "34                             Uttar Pradesh            75\n",
       "35                               Uttarakhand            13\n",
       "36                               West Bengal            24"
      ]
     },
     "execution_count": 196,
     "metadata": {},
     "output_type": "execute_result"
    }
   ],
   "source": [
    "## Q5. read csv called 'state_summary.csv' and save this as df\n",
    "df = pd.read_csv('state_summary.csv')\n",
    "df"
   ]
  },
  {
   "cell_type": "code",
   "execution_count": 157,
   "id": "f979b827-ba1e-49f4-b98b-f20d2d31c7b2",
   "metadata": {},
   "outputs": [],
   "source": [
    "## Q6. from df above, which state has most number of districts? Using the name of state as key, \n",
    "# print information of districts in that particular state in json_file\n",
    "#json_file['Uttar Pradesh']['districtData']"
   ]
  },
  {
   "cell_type": "code",
   "execution_count": 202,
   "id": "d0bd2058-1077-4eba-ae78-df915f26486f",
   "metadata": {},
   "outputs": [],
   "source": [
    "## Q7. convert above output as dataframe Hint: columns - district_name, district_data\n",
    "\n",
    "columns = {'district_name': [], 'district_data': []}\n",
    "for i in json_file['Uttar Pradesh']['districtData']:\n",
    "    columns['district_name'].append(i)\n",
    "    columns['district_data'].append(json_file['Uttar Pradesh']['districtData'][i])\n",
    "\n",
    "df_test = pd.DataFrame(columns)"
   ]
  },
  {
   "cell_type": "code",
   "execution_count": 214,
   "id": "c5b79404-d94f-444f-afee-1aa8b10d9888",
   "metadata": {},
   "outputs": [
    {
     "data": {
      "text/plain": [
       "dict_keys(['State Unassigned', 'Andaman and Nicobar Islands', 'Andhra Pradesh', 'Arunachal Pradesh', 'Assam', 'Bihar', 'Chandigarh', 'Chhattisgarh', 'Delhi', 'Dadra and Nagar Haveli and Daman and Diu', 'Goa', 'Gujarat', 'Himachal Pradesh', 'Haryana', 'Jharkhand', 'Jammu and Kashmir', 'Karnataka', 'Kerala', 'Ladakh', 'Lakshadweep', 'Maharashtra', 'Meghalaya', 'Manipur', 'Madhya Pradesh', 'Mizoram', 'Nagaland', 'Odisha', 'Punjab', 'Puducherry', 'Rajasthan', 'Sikkim', 'Telangana', 'Tamil Nadu', 'Tripura', 'Uttar Pradesh', 'Uttarakhand', 'West Bengal'])"
      ]
     },
     "execution_count": 214,
     "metadata": {},
     "output_type": "execute_result"
    }
   ],
   "source": [
    "json_file.keys()"
   ]
  },
  {
   "cell_type": "code",
   "execution_count": 235,
   "id": "a4ca9220-6f37-41d1-b974-372971fa3b72",
   "metadata": {},
   "outputs": [
    {
     "data": {
      "text/plain": [
       "dict_values([{'notes': 'District-wise numbers are out-dated as cumulative counts for each district are not reported in bulletin', 'active': 0, 'confirmed': 0, 'migratedother': 0, 'deceased': 0, 'recovered': 0, 'delta': {'confirmed': 0, 'deceased': 0, 'recovered': 0}}, {'notes': 'District-wise numbers are out-dated as cumulative counts for each district are not reported in bulletin', 'active': 0, 'confirmed': 1, 'migratedother': 0, 'deceased': 0, 'recovered': 1, 'delta': {'confirmed': 0, 'deceased': 0, 'recovered': 0}}, {'notes': 'District-wise numbers are out-dated as cumulative counts for each district are not reported in bulletin', 'active': 19, 'confirmed': 51, 'migratedother': 0, 'deceased': 0, 'recovered': 32, 'delta': {'confirmed': 0, 'deceased': 0, 'recovered': 0}}, {'notes': '', 'active': -13, 'confirmed': 7496, 'migratedother': 0, 'deceased': 129, 'recovered': 7380, 'delta': {'confirmed': 0, 'deceased': 0, 'recovered': 0}}])"
      ]
     },
     "execution_count": 235,
     "metadata": {},
     "output_type": "execute_result"
    }
   ],
   "source": [
    "json_file['Andaman and Nicobar Islands']['districtData'].values()"
   ]
  },
  {
   "cell_type": "code",
   "execution_count": 219,
   "id": "6586aa91-8057-4861-8ac0-b121beee6a22",
   "metadata": {},
   "outputs": [],
   "source": [
    "#columns['district_data'] = json_file['State Unassigned']['districtData'].keys()\n",
    "#columns['district_data'] = json_file['State Unassigned']['districtData'].values()\n",
    "#pd.DataFrame(columns)"
   ]
  },
  {
   "cell_type": "code",
   "execution_count": 246,
   "id": "f9343464-ff02-4a9c-924b-67841e648ff4",
   "metadata": {},
   "outputs": [],
   "source": [
    "### BONUS: using for loop in json_file.keys(), \n",
    "\n",
    "\n",
    "columns = {'district_name': [], 'district_data': []}\n",
    "dfs = []\n",
    "for j in json_file.keys():\n",
    "    columns['district_name'] = json_file[j]['districtData'].keys()\n",
    "    columns['district_data'] = json_file[j]['districtData'].values()\n",
    "    df_test = pd.DataFrame(columns)\n",
    "    df_test['state_name'] = j\n",
    "    dfs.append(df_test)\n",
    "\n",
    "df_all = pd.concat(dfs,axis=0)\n",
    "df_all.to_csv('all_COVID.csv', index = False)"
   ]
  },
  {
   "cell_type": "code",
   "execution_count": 206,
   "id": "cfb81309-c050-48c5-8b3d-140a5c8d3fec",
   "metadata": {},
   "outputs": [
    {
     "data": {
      "text/plain": [
       "{'confirmed': 2, 'deceased': 0, 'recovered': 0}"
      ]
     },
     "execution_count": 206,
     "metadata": {},
     "output_type": "execute_result"
    }
   ],
   "source": [
    "df_test['district_data'][2]['delta']"
   ]
  },
  {
   "cell_type": "code",
   "execution_count": 207,
   "id": "0bf97c83-e06c-47e6-8674-5d8be41572a7",
   "metadata": {},
   "outputs": [],
   "source": [
    "df_test['active'] = df_test['district_data'].apply(lambda x:x['active'])"
   ]
  },
  {
   "cell_type": "code",
   "execution_count": 208,
   "id": "c433f2b8-9422-43cb-a823-078acde44d7c",
   "metadata": {},
   "outputs": [],
   "source": [
    "### Q8. can you create confirmed, deceased, recovered from the method above?\n",
    "df_test['confirmed'] = df_test['district_data'].apply(lambda x:x['confirmed'])\n",
    "df_test['deceased'] = df_test['district_data'].apply(lambda x:x['deceased'])\n",
    "df_test['recovered'] = df_test['district_data'].apply(lambda x:x['recovered'])"
   ]
  },
  {
   "cell_type": "code",
   "execution_count": 209,
   "id": "abf2c6a1-333a-40e3-8162-e408dae8f6a2",
   "metadata": {},
   "outputs": [],
   "source": [
    "df_test.to_csv('largest_state_summary.csv', index = False)"
   ]
  },
  {
   "cell_type": "code",
   "execution_count": null,
   "id": "46e71d81-42a0-4628-a0ae-a81aba0e4911",
   "metadata": {},
   "outputs": [],
   "source": []
  },
  {
   "cell_type": "code",
   "execution_count": 197,
   "id": "cb61dd24-e1bc-4f48-8940-f94e20f7a402",
   "metadata": {},
   "outputs": [
    {
     "data": {
      "text/plain": [
       "dict_keys(['State Unassigned', 'Andaman and Nicobar Islands', 'Andhra Pradesh', 'Arunachal Pradesh', 'Assam', 'Bihar', 'Chandigarh', 'Chhattisgarh', 'Delhi', 'Dadra and Nagar Haveli and Daman and Diu', 'Goa', 'Gujarat', 'Himachal Pradesh', 'Haryana', 'Jharkhand', 'Jammu and Kashmir', 'Karnataka', 'Kerala', 'Ladakh', 'Lakshadweep', 'Maharashtra', 'Meghalaya', 'Manipur', 'Madhya Pradesh', 'Mizoram', 'Nagaland', 'Odisha', 'Punjab', 'Puducherry', 'Rajasthan', 'Sikkim', 'Telangana', 'Tamil Nadu', 'Tripura', 'Uttar Pradesh', 'Uttarakhand', 'West Bengal'])"
      ]
     },
     "execution_count": 197,
     "metadata": {},
     "output_type": "execute_result"
    }
   ],
   "source": [
    "json_file.keys()"
   ]
  },
  {
   "cell_type": "code",
   "execution_count": 200,
   "id": "13bf89ad-080e-465a-a738-a52df11371ea",
   "metadata": {},
   "outputs": [
    {
     "data": {
      "text/plain": [
       "dict_keys(['Other State', 'North Goa', 'South Goa', 'Unknown'])"
      ]
     },
     "execution_count": 200,
     "metadata": {},
     "output_type": "execute_result"
    }
   ],
   "source": [
    "json_file['Goa']['districtData'].keys()"
   ]
  },
  {
   "cell_type": "code",
   "execution_count": null,
   "id": "b6098225-42d3-4f39-9d29-f2bee85ae4ac",
   "metadata": {},
   "outputs": [],
   "source": []
  },
  {
   "cell_type": "code",
   "execution_count": null,
   "id": "aa9d6c98-5787-4c14-b6c0-e23edbb1bbfe",
   "metadata": {},
   "outputs": [],
   "source": []
  },
  {
   "cell_type": "code",
   "execution_count": 110,
   "id": "71f3be1c-2af2-4706-ada8-542ce5845e75",
   "metadata": {},
   "outputs": [
    {
     "data": {
      "text/plain": [
       "{'Anjaw': {'notes': '',\n",
       "  'active': 48,\n",
       "  'confirmed': 985,\n",
       "  'migratedother': 0,\n",
       "  'deceased': 3,\n",
       "  'recovered': 934,\n",
       "  'delta': {'confirmed': 3, 'deceased': 0, 'recovered': 3}},\n",
       " 'Changlang': {'notes': '',\n",
       "  'active': 71,\n",
       "  'confirmed': 3621,\n",
       "  'migratedother': 0,\n",
       "  'deceased': 20,\n",
       "  'recovered': 3530,\n",
       "  'delta': {'confirmed': 9, 'deceased': 0, 'recovered': 6}},\n",
       " 'East Kameng': {'notes': '',\n",
       "  'active': 35,\n",
       "  'confirmed': 1066,\n",
       "  'migratedother': 0,\n",
       "  'deceased': 0,\n",
       "  'recovered': 1031,\n",
       "  'delta': {'confirmed': 5, 'deceased': 0, 'recovered': 3}},\n",
       " 'East Siang': {'notes': '',\n",
       "  'active': 102,\n",
       "  'confirmed': 2936,\n",
       "  'migratedother': 0,\n",
       "  'deceased': 17,\n",
       "  'recovered': 2817,\n",
       "  'delta': {'confirmed': 5, 'deceased': 0, 'recovered': 5}},\n",
       " 'Kamle': {'notes': '',\n",
       "  'active': 60,\n",
       "  'confirmed': 460,\n",
       "  'migratedother': 0,\n",
       "  'deceased': 0,\n",
       "  'recovered': 400,\n",
       "  'delta': {'confirmed': 2, 'deceased': 0, 'recovered': 8}},\n",
       " 'Kra Daadi': {'notes': '',\n",
       "  'active': 7,\n",
       "  'confirmed': 256,\n",
       "  'migratedother': 0,\n",
       "  'deceased': 0,\n",
       "  'recovered': 249,\n",
       "  'delta': {'confirmed': 0, 'deceased': 0, 'recovered': 0}},\n",
       " 'Kurung Kumey': {'notes': '',\n",
       "  'active': 2,\n",
       "  'confirmed': 507,\n",
       "  'migratedother': 0,\n",
       "  'deceased': 1,\n",
       "  'recovered': 504,\n",
       "  'delta': {'confirmed': 0, 'deceased': 0, 'recovered': 5}},\n",
       " 'Lepa Rada': {'notes': '',\n",
       "  'active': 41,\n",
       "  'confirmed': 762,\n",
       "  'migratedother': 0,\n",
       "  'deceased': 2,\n",
       "  'recovered': 719,\n",
       "  'delta': {'confirmed': 5, 'deceased': 0, 'recovered': 2}},\n",
       " 'Lohit': {'notes': '',\n",
       "  'active': 144,\n",
       "  'confirmed': 2656,\n",
       "  'migratedother': 0,\n",
       "  'deceased': 26,\n",
       "  'recovered': 2486,\n",
       "  'delta': {'confirmed': 11, 'deceased': 1, 'recovered': 5}},\n",
       " 'Longding': {'notes': '',\n",
       "  'active': 14,\n",
       "  'confirmed': 728,\n",
       "  'migratedother': 0,\n",
       "  'deceased': 2,\n",
       "  'recovered': 712,\n",
       "  'delta': {'confirmed': 2, 'deceased': 0, 'recovered': 2}},\n",
       " 'Lower Dibang Valley': {'notes': '',\n",
       "  'active': 89,\n",
       "  'confirmed': 2147,\n",
       "  'migratedother': 0,\n",
       "  'deceased': 9,\n",
       "  'recovered': 2049,\n",
       "  'delta': {'confirmed': 5, 'deceased': 0, 'recovered': 0}},\n",
       " 'Lower Siang': {'notes': '',\n",
       "  'active': 50,\n",
       "  'confirmed': 703,\n",
       "  'migratedother': 0,\n",
       "  'deceased': 8,\n",
       "  'recovered': 645,\n",
       "  'delta': {'confirmed': 8, 'deceased': 0, 'recovered': 14}},\n",
       " 'Lower Subansiri': {'notes': '',\n",
       "  'active': 333,\n",
       "  'confirmed': 2610,\n",
       "  'migratedother': 0,\n",
       "  'deceased': 11,\n",
       "  'recovered': 2266,\n",
       "  'delta': {'confirmed': 15, 'deceased': 0, 'recovered': 17}},\n",
       " 'Namsai': {'notes': '',\n",
       "  'active': 48,\n",
       "  'confirmed': 1958,\n",
       "  'migratedother': 0,\n",
       "  'deceased': 15,\n",
       "  'recovered': 1895,\n",
       "  'delta': {'confirmed': 7, 'deceased': 0, 'recovered': 0}},\n",
       " 'Pakke Kessang': {'notes': '',\n",
       "  'active': 9,\n",
       "  'confirmed': 390,\n",
       "  'migratedother': 0,\n",
       "  'deceased': 0,\n",
       "  'recovered': 381,\n",
       "  'delta': {'confirmed': 1, 'deceased': 0, 'recovered': 0}},\n",
       " 'Papum Pare': {'notes': '',\n",
       "  'active': 844,\n",
       "  'confirmed': 17113,\n",
       "  'migratedother': 0,\n",
       "  'deceased': 87,\n",
       "  'recovered': 16182,\n",
       "  'delta': {'confirmed': 65, 'deceased': 1, 'recovered': 112}},\n",
       " 'Shi Yomi': {'notes': '',\n",
       "  'active': 25,\n",
       "  'confirmed': 221,\n",
       "  'migratedother': 0,\n",
       "  'deceased': 0,\n",
       "  'recovered': 196,\n",
       "  'delta': {'confirmed': 2, 'deceased': 0, 'recovered': 0}},\n",
       " 'Siang': {'notes': '',\n",
       "  'active': 27,\n",
       "  'confirmed': 393,\n",
       "  'migratedother': 0,\n",
       "  'deceased': 3,\n",
       "  'recovered': 363,\n",
       "  'delta': {'confirmed': 3, 'deceased': 0, 'recovered': 5}},\n",
       " 'Tawang': {'notes': '',\n",
       "  'active': 115,\n",
       "  'confirmed': 2283,\n",
       "  'migratedother': 0,\n",
       "  'deceased': 17,\n",
       "  'recovered': 2151,\n",
       "  'delta': {'confirmed': 12, 'deceased': 0, 'recovered': 6}},\n",
       " 'Tirap': {'notes': '',\n",
       "  'active': 20,\n",
       "  'confirmed': 1005,\n",
       "  'migratedother': 0,\n",
       "  'deceased': 3,\n",
       "  'recovered': 982,\n",
       "  'delta': {'confirmed': 2, 'deceased': 0, 'recovered': 6}},\n",
       " 'Upper Dibang Valley': {'notes': '',\n",
       "  'active': 26,\n",
       "  'confirmed': 290,\n",
       "  'migratedother': 0,\n",
       "  'deceased': 2,\n",
       "  'recovered': 262,\n",
       "  'delta': {'confirmed': 3, 'deceased': 0, 'recovered': 1}},\n",
       " 'Upper Siang': {'notes': '',\n",
       "  'active': 76,\n",
       "  'confirmed': 881,\n",
       "  'migratedother': 0,\n",
       "  'deceased': 1,\n",
       "  'recovered': 804,\n",
       "  'delta': {'confirmed': 1, 'deceased': 0, 'recovered': 0}},\n",
       " 'Upper Subansiri': {'notes': '',\n",
       "  'active': 80,\n",
       "  'confirmed': 1903,\n",
       "  'migratedother': 0,\n",
       "  'deceased': 6,\n",
       "  'recovered': 1817,\n",
       "  'delta': {'confirmed': 6, 'deceased': 1, 'recovered': 1}},\n",
       " 'West Kameng': {'notes': '',\n",
       "  'active': 171,\n",
       "  'confirmed': 3194,\n",
       "  'migratedother': 0,\n",
       "  'deceased': 13,\n",
       "  'recovered': 3010,\n",
       "  'delta': {'confirmed': 9, 'deceased': 0, 'recovered': 15}},\n",
       " 'West Siang': {'notes': '',\n",
       "  'active': 51,\n",
       "  'confirmed': 1725,\n",
       "  'migratedother': 0,\n",
       "  'deceased': 5,\n",
       "  'recovered': 1669,\n",
       "  'delta': {'confirmed': 7, 'deceased': 0, 'recovered': 17}}}"
      ]
     },
     "execution_count": 110,
     "metadata": {},
     "output_type": "execute_result"
    }
   ],
   "source": [
    "dict_ap = json_file['Arunachal Pradesh']\n",
    "dict_ap_district = dict_ap['districtData']\n",
    "dict_ap_district"
   ]
  },
  {
   "cell_type": "code",
   "execution_count": 44,
   "id": "daacbe22-6224-4d89-8f8b-ceea05de9e4b",
   "metadata": {},
   "outputs": [
    {
     "data": {
      "text/plain": [
       "4606"
      ]
     },
     "execution_count": 44,
     "metadata": {},
     "output_type": "execute_result"
    }
   ],
   "source": [
    "# Q3. how many people were confrimed with COVID in Anjaw and Changlang?\n",
    "## Hint: use dict_ap_district\n",
    "dict_ap_district['Anjaw']['confirmed'] + dict_ap_district['Changlang']['confirmed']\n"
   ]
  },
  {
   "cell_type": "code",
   "execution_count": 46,
   "id": "0e4257cf-5e61-4695-890f-23fae0ba2ce5",
   "metadata": {},
   "outputs": [
    {
     "name": "stdout",
     "output_type": "stream",
     "text": [
      "Anjaw\n",
      "Changlang\n",
      "East Kameng\n",
      "East Siang\n",
      "Kamle\n",
      "Kra Daadi\n",
      "Kurung Kumey\n",
      "Lepa Rada\n",
      "Lohit\n",
      "Longding\n",
      "Lower Dibang Valley\n",
      "Lower Siang\n",
      "Lower Subansiri\n",
      "Namsai\n",
      "Pakke Kessang\n",
      "Papum Pare\n",
      "Shi Yomi\n",
      "Siang\n",
      "Tawang\n",
      "Tirap\n",
      "Upper Dibang Valley\n",
      "Upper Siang\n",
      "Upper Subansiri\n",
      "West Kameng\n",
      "West Siang\n"
     ]
    },
    {
     "data": {
      "text/plain": [
       "dict_keys(['Anjaw', 'Changlang', 'East Kameng', 'East Siang', 'Kamle', 'Kra Daadi', 'Kurung Kumey', 'Lepa Rada', 'Lohit', 'Longding', 'Lower Dibang Valley', 'Lower Siang', 'Lower Subansiri', 'Namsai', 'Pakke Kessang', 'Papum Pare', 'Shi Yomi', 'Siang', 'Tawang', 'Tirap', 'Upper Dibang Valley', 'Upper Siang', 'Upper Subansiri', 'West Kameng', 'West Siang'])"
      ]
     },
     "execution_count": 46,
     "metadata": {},
     "output_type": "execute_result"
    }
   ],
   "source": [
    "# for loop gives you all keys in dictionary\n",
    "for i in dict_ap_district:\n",
    "    print(i)\n",
    "\n",
    "dict_ap_district.keys()"
   ]
  },
  {
   "cell_type": "code",
   "execution_count": 49,
   "id": "3a698651-e87b-47c3-9077-e9fe35dc25a8",
   "metadata": {},
   "outputs": [
    {
     "name": "stdout",
     "output_type": "stream",
     "text": [
      "Anjaw:985\n",
      "Changlang:3621\n",
      "East Kameng:1066\n",
      "East Siang:2936\n",
      "Kamle:460\n",
      "Kra Daadi:256\n",
      "Kurung Kumey:507\n",
      "Lepa Rada:762\n",
      "Lohit:2656\n",
      "Longding:728\n",
      "Lower Dibang Valley:2147\n",
      "Lower Siang:703\n",
      "Lower Subansiri:2610\n",
      "Namsai:1958\n",
      "Pakke Kessang:390\n",
      "Papum Pare:17113\n",
      "Shi Yomi:221\n",
      "Siang:393\n",
      "Tawang:2283\n",
      "Tirap:1005\n",
      "Upper Dibang Valley:290\n",
      "Upper Siang:881\n",
      "Upper Subansiri:1903\n",
      "West Kameng:3194\n",
      "West Siang:1725\n"
     ]
    }
   ],
   "source": [
    "# Q4. using for loop, print district name : number of confrimed\n",
    "## example: Anjaw : 934, .... West Siang : xxx,\n",
    "## HINT: from above, use keys and then print confriemd for each key\n",
    "for i in dict_ap_district:\n",
    "    number = str(dict_ap_district[i]['confirmed'])\n",
    "    print(i+\":\"+ number)"
   ]
  },
  {
   "cell_type": "code",
   "execution_count": 50,
   "id": "77771b95-7e88-4237-9af3-81588bd1bc94",
   "metadata": {},
   "outputs": [],
   "source": [
    "# Q5. create user defined function to print out number of confirmed, recovered and etc (any relevant key) for each district\n",
    "def num_district(x):\n",
    "    for i in dict_ap_district:\n",
    "        number = str(dict_ap_district[i][x])\n",
    "        print(i+\":\"+number)"
   ]
  },
  {
   "cell_type": "code",
   "execution_count": 51,
   "id": "f86940dc-ed2d-4672-97ce-828ca3faf7c1",
   "metadata": {},
   "outputs": [
    {
     "name": "stdout",
     "output_type": "stream",
     "text": [
      "Anjaw:934\n",
      "Changlang:3530\n",
      "East Kameng:1031\n",
      "East Siang:2817\n",
      "Kamle:400\n",
      "Kra Daadi:249\n",
      "Kurung Kumey:504\n",
      "Lepa Rada:719\n",
      "Lohit:2486\n",
      "Longding:712\n",
      "Lower Dibang Valley:2049\n",
      "Lower Siang:645\n",
      "Lower Subansiri:2266\n",
      "Namsai:1895\n",
      "Pakke Kessang:381\n",
      "Papum Pare:16182\n",
      "Shi Yomi:196\n",
      "Siang:363\n",
      "Tawang:2151\n",
      "Tirap:982\n",
      "Upper Dibang Valley:262\n",
      "Upper Siang:804\n",
      "Upper Subansiri:1817\n",
      "West Kameng:3010\n",
      "West Siang:1669\n"
     ]
    }
   ],
   "source": [
    "num_district(\"recovered\")"
   ]
  },
  {
   "cell_type": "code",
   "execution_count": 60,
   "id": "35ec6731-65c8-4af9-ba43-0e006e62d9fe",
   "metadata": {},
   "outputs": [
    {
     "data": {
      "text/html": [
       "<div>\n",
       "<style scoped>\n",
       "    .dataframe tbody tr th:only-of-type {\n",
       "        vertical-align: middle;\n",
       "    }\n",
       "\n",
       "    .dataframe tbody tr th {\n",
       "        vertical-align: top;\n",
       "    }\n",
       "\n",
       "    .dataframe thead th {\n",
       "        text-align: right;\n",
       "    }\n",
       "</style>\n",
       "<table border=\"1\" class=\"dataframe\">\n",
       "  <thead>\n",
       "    <tr style=\"text-align: right;\">\n",
       "      <th></th>\n",
       "      <th>district_name</th>\n",
       "      <th>num_confirmed</th>\n",
       "      <th>num_recovered</th>\n",
       "    </tr>\n",
       "  </thead>\n",
       "  <tbody>\n",
       "    <tr>\n",
       "      <th>0</th>\n",
       "      <td>Anjaw</td>\n",
       "      <td>985</td>\n",
       "      <td>934</td>\n",
       "    </tr>\n",
       "    <tr>\n",
       "      <th>1</th>\n",
       "      <td>Changlang</td>\n",
       "      <td>3621</td>\n",
       "      <td>3530</td>\n",
       "    </tr>\n",
       "    <tr>\n",
       "      <th>2</th>\n",
       "      <td>East Kameng</td>\n",
       "      <td>1066</td>\n",
       "      <td>1031</td>\n",
       "    </tr>\n",
       "    <tr>\n",
       "      <th>3</th>\n",
       "      <td>East Siang</td>\n",
       "      <td>2936</td>\n",
       "      <td>2817</td>\n",
       "    </tr>\n",
       "    <tr>\n",
       "      <th>4</th>\n",
       "      <td>Kamle</td>\n",
       "      <td>460</td>\n",
       "      <td>400</td>\n",
       "    </tr>\n",
       "    <tr>\n",
       "      <th>5</th>\n",
       "      <td>Kra Daadi</td>\n",
       "      <td>256</td>\n",
       "      <td>249</td>\n",
       "    </tr>\n",
       "    <tr>\n",
       "      <th>6</th>\n",
       "      <td>Kurung Kumey</td>\n",
       "      <td>507</td>\n",
       "      <td>504</td>\n",
       "    </tr>\n",
       "    <tr>\n",
       "      <th>7</th>\n",
       "      <td>Lepa Rada</td>\n",
       "      <td>762</td>\n",
       "      <td>719</td>\n",
       "    </tr>\n",
       "    <tr>\n",
       "      <th>8</th>\n",
       "      <td>Lohit</td>\n",
       "      <td>2656</td>\n",
       "      <td>2486</td>\n",
       "    </tr>\n",
       "    <tr>\n",
       "      <th>9</th>\n",
       "      <td>Longding</td>\n",
       "      <td>728</td>\n",
       "      <td>712</td>\n",
       "    </tr>\n",
       "    <tr>\n",
       "      <th>10</th>\n",
       "      <td>Lower Dibang Valley</td>\n",
       "      <td>2147</td>\n",
       "      <td>2049</td>\n",
       "    </tr>\n",
       "    <tr>\n",
       "      <th>11</th>\n",
       "      <td>Lower Siang</td>\n",
       "      <td>703</td>\n",
       "      <td>645</td>\n",
       "    </tr>\n",
       "    <tr>\n",
       "      <th>12</th>\n",
       "      <td>Lower Subansiri</td>\n",
       "      <td>2610</td>\n",
       "      <td>2266</td>\n",
       "    </tr>\n",
       "    <tr>\n",
       "      <th>13</th>\n",
       "      <td>Namsai</td>\n",
       "      <td>1958</td>\n",
       "      <td>1895</td>\n",
       "    </tr>\n",
       "    <tr>\n",
       "      <th>14</th>\n",
       "      <td>Pakke Kessang</td>\n",
       "      <td>390</td>\n",
       "      <td>381</td>\n",
       "    </tr>\n",
       "    <tr>\n",
       "      <th>15</th>\n",
       "      <td>Papum Pare</td>\n",
       "      <td>17113</td>\n",
       "      <td>16182</td>\n",
       "    </tr>\n",
       "    <tr>\n",
       "      <th>16</th>\n",
       "      <td>Shi Yomi</td>\n",
       "      <td>221</td>\n",
       "      <td>196</td>\n",
       "    </tr>\n",
       "    <tr>\n",
       "      <th>17</th>\n",
       "      <td>Siang</td>\n",
       "      <td>393</td>\n",
       "      <td>363</td>\n",
       "    </tr>\n",
       "    <tr>\n",
       "      <th>18</th>\n",
       "      <td>Tawang</td>\n",
       "      <td>2283</td>\n",
       "      <td>2151</td>\n",
       "    </tr>\n",
       "    <tr>\n",
       "      <th>19</th>\n",
       "      <td>Tirap</td>\n",
       "      <td>1005</td>\n",
       "      <td>982</td>\n",
       "    </tr>\n",
       "    <tr>\n",
       "      <th>20</th>\n",
       "      <td>Upper Dibang Valley</td>\n",
       "      <td>290</td>\n",
       "      <td>262</td>\n",
       "    </tr>\n",
       "    <tr>\n",
       "      <th>21</th>\n",
       "      <td>Upper Siang</td>\n",
       "      <td>881</td>\n",
       "      <td>804</td>\n",
       "    </tr>\n",
       "    <tr>\n",
       "      <th>22</th>\n",
       "      <td>Upper Subansiri</td>\n",
       "      <td>1903</td>\n",
       "      <td>1817</td>\n",
       "    </tr>\n",
       "    <tr>\n",
       "      <th>23</th>\n",
       "      <td>West Kameng</td>\n",
       "      <td>3194</td>\n",
       "      <td>3010</td>\n",
       "    </tr>\n",
       "    <tr>\n",
       "      <th>24</th>\n",
       "      <td>West Siang</td>\n",
       "      <td>1725</td>\n",
       "      <td>1669</td>\n",
       "    </tr>\n",
       "  </tbody>\n",
       "</table>\n",
       "</div>"
      ],
      "text/plain": [
       "          district_name  num_confirmed  num_recovered\n",
       "0                 Anjaw            985            934\n",
       "1             Changlang           3621           3530\n",
       "2           East Kameng           1066           1031\n",
       "3            East Siang           2936           2817\n",
       "4                 Kamle            460            400\n",
       "5             Kra Daadi            256            249\n",
       "6          Kurung Kumey            507            504\n",
       "7             Lepa Rada            762            719\n",
       "8                 Lohit           2656           2486\n",
       "9              Longding            728            712\n",
       "10  Lower Dibang Valley           2147           2049\n",
       "11          Lower Siang            703            645\n",
       "12      Lower Subansiri           2610           2266\n",
       "13               Namsai           1958           1895\n",
       "14        Pakke Kessang            390            381\n",
       "15           Papum Pare          17113          16182\n",
       "16             Shi Yomi            221            196\n",
       "17                Siang            393            363\n",
       "18               Tawang           2283           2151\n",
       "19                Tirap           1005            982\n",
       "20  Upper Dibang Valley            290            262\n",
       "21          Upper Siang            881            804\n",
       "22      Upper Subansiri           1903           1817\n",
       "23          West Kameng           3194           3010\n",
       "24           West Siang           1725           1669"
      ]
     },
     "execution_count": 60,
     "metadata": {},
     "output_type": "execute_result"
    }
   ],
   "source": [
    "### Tutorial: from JSON to Dictionary to Pandas dataframe\n",
    "\n",
    "#### district_name, num_confirmed, num_recovered\n",
    "### dict: key -- (district_name, num_confirmed, num_recovered) This becomes column name\n",
    "######### value -- ('Anjew','West Siang' --------- ) This becomes row values for each column\n",
    "dict_pandas = {}\n",
    "dist_names = []\n",
    "\n",
    "# district name\n",
    "for i in dict_ap_district:\n",
    "    dist_names.append(i)\n",
    "    \n",
    "value_list_confirmed = []\n",
    "\n",
    "# confirmed\n",
    "for i in dict_ap_district:\n",
    "    number = dict_ap_district[i]['confirmed']\n",
    "    value_list_confirmed.append(number)\n",
    "    \n",
    "value_list_recovered = []\n",
    "\n",
    "# recovered\n",
    "for i in dict_ap_district:\n",
    "    number = dict_ap_district[i]['recovered']\n",
    "    value_list_recovered.append(number)\n",
    "\n",
    "dict_pandas['district_name'] = dist_names\n",
    "dict_pandas['num_confirmed'] = value_list_confirmed\n",
    "dict_pandas['num_recovered'] = value_list_recovered\n",
    "\n",
    "df = pd.DataFrame(dict_pandas)\n",
    "df"
   ]
  },
  {
   "cell_type": "code",
   "execution_count": 105,
   "id": "53255436-b382-4922-be84-bbb9d26b5b11",
   "metadata": {},
   "outputs": [],
   "source": []
  },
  {
   "cell_type": "code",
   "execution_count": 72,
   "id": "01096553-63ed-4355-b414-ebb7eddfc089",
   "metadata": {},
   "outputs": [
    {
     "data": {
      "text/html": [
       "<div>\n",
       "<style scoped>\n",
       "    .dataframe tbody tr th:only-of-type {\n",
       "        vertical-align: middle;\n",
       "    }\n",
       "\n",
       "    .dataframe tbody tr th {\n",
       "        vertical-align: top;\n",
       "    }\n",
       "\n",
       "    .dataframe thead th {\n",
       "        text-align: right;\n",
       "    }\n",
       "</style>\n",
       "<table border=\"1\" class=\"dataframe\">\n",
       "  <thead>\n",
       "    <tr style=\"text-align: right;\">\n",
       "      <th></th>\n",
       "      <th>district_name</th>\n",
       "      <th>num_confirmed</th>\n",
       "      <th>num_recovered</th>\n",
       "      <th>num_unrecovered</th>\n",
       "    </tr>\n",
       "  </thead>\n",
       "  <tbody>\n",
       "    <tr>\n",
       "      <th>0</th>\n",
       "      <td>Anjaw</td>\n",
       "      <td>985</td>\n",
       "      <td>934</td>\n",
       "      <td>51</td>\n",
       "    </tr>\n",
       "    <tr>\n",
       "      <th>1</th>\n",
       "      <td>Changlang</td>\n",
       "      <td>3621</td>\n",
       "      <td>3530</td>\n",
       "      <td>91</td>\n",
       "    </tr>\n",
       "    <tr>\n",
       "      <th>2</th>\n",
       "      <td>East Kameng</td>\n",
       "      <td>1066</td>\n",
       "      <td>1031</td>\n",
       "      <td>35</td>\n",
       "    </tr>\n",
       "    <tr>\n",
       "      <th>3</th>\n",
       "      <td>East Siang</td>\n",
       "      <td>2936</td>\n",
       "      <td>2817</td>\n",
       "      <td>119</td>\n",
       "    </tr>\n",
       "    <tr>\n",
       "      <th>4</th>\n",
       "      <td>Kamle</td>\n",
       "      <td>460</td>\n",
       "      <td>400</td>\n",
       "      <td>60</td>\n",
       "    </tr>\n",
       "    <tr>\n",
       "      <th>5</th>\n",
       "      <td>Kra Daadi</td>\n",
       "      <td>256</td>\n",
       "      <td>249</td>\n",
       "      <td>7</td>\n",
       "    </tr>\n",
       "    <tr>\n",
       "      <th>6</th>\n",
       "      <td>Kurung Kumey</td>\n",
       "      <td>507</td>\n",
       "      <td>504</td>\n",
       "      <td>3</td>\n",
       "    </tr>\n",
       "    <tr>\n",
       "      <th>7</th>\n",
       "      <td>Lepa Rada</td>\n",
       "      <td>762</td>\n",
       "      <td>719</td>\n",
       "      <td>43</td>\n",
       "    </tr>\n",
       "    <tr>\n",
       "      <th>8</th>\n",
       "      <td>Lohit</td>\n",
       "      <td>2656</td>\n",
       "      <td>2486</td>\n",
       "      <td>170</td>\n",
       "    </tr>\n",
       "    <tr>\n",
       "      <th>9</th>\n",
       "      <td>Longding</td>\n",
       "      <td>728</td>\n",
       "      <td>712</td>\n",
       "      <td>16</td>\n",
       "    </tr>\n",
       "    <tr>\n",
       "      <th>10</th>\n",
       "      <td>Lower Dibang Valley</td>\n",
       "      <td>2147</td>\n",
       "      <td>2049</td>\n",
       "      <td>98</td>\n",
       "    </tr>\n",
       "    <tr>\n",
       "      <th>11</th>\n",
       "      <td>Lower Siang</td>\n",
       "      <td>703</td>\n",
       "      <td>645</td>\n",
       "      <td>58</td>\n",
       "    </tr>\n",
       "    <tr>\n",
       "      <th>12</th>\n",
       "      <td>Lower Subansiri</td>\n",
       "      <td>2610</td>\n",
       "      <td>2266</td>\n",
       "      <td>344</td>\n",
       "    </tr>\n",
       "    <tr>\n",
       "      <th>13</th>\n",
       "      <td>Namsai</td>\n",
       "      <td>1958</td>\n",
       "      <td>1895</td>\n",
       "      <td>63</td>\n",
       "    </tr>\n",
       "    <tr>\n",
       "      <th>14</th>\n",
       "      <td>Pakke Kessang</td>\n",
       "      <td>390</td>\n",
       "      <td>381</td>\n",
       "      <td>9</td>\n",
       "    </tr>\n",
       "    <tr>\n",
       "      <th>15</th>\n",
       "      <td>Papum Pare</td>\n",
       "      <td>17113</td>\n",
       "      <td>16182</td>\n",
       "      <td>931</td>\n",
       "    </tr>\n",
       "    <tr>\n",
       "      <th>16</th>\n",
       "      <td>Shi Yomi</td>\n",
       "      <td>221</td>\n",
       "      <td>196</td>\n",
       "      <td>25</td>\n",
       "    </tr>\n",
       "    <tr>\n",
       "      <th>17</th>\n",
       "      <td>Siang</td>\n",
       "      <td>393</td>\n",
       "      <td>363</td>\n",
       "      <td>30</td>\n",
       "    </tr>\n",
       "    <tr>\n",
       "      <th>18</th>\n",
       "      <td>Tawang</td>\n",
       "      <td>2283</td>\n",
       "      <td>2151</td>\n",
       "      <td>132</td>\n",
       "    </tr>\n",
       "    <tr>\n",
       "      <th>19</th>\n",
       "      <td>Tirap</td>\n",
       "      <td>1005</td>\n",
       "      <td>982</td>\n",
       "      <td>23</td>\n",
       "    </tr>\n",
       "    <tr>\n",
       "      <th>20</th>\n",
       "      <td>Upper Dibang Valley</td>\n",
       "      <td>290</td>\n",
       "      <td>262</td>\n",
       "      <td>28</td>\n",
       "    </tr>\n",
       "    <tr>\n",
       "      <th>21</th>\n",
       "      <td>Upper Siang</td>\n",
       "      <td>881</td>\n",
       "      <td>804</td>\n",
       "      <td>77</td>\n",
       "    </tr>\n",
       "    <tr>\n",
       "      <th>22</th>\n",
       "      <td>Upper Subansiri</td>\n",
       "      <td>1903</td>\n",
       "      <td>1817</td>\n",
       "      <td>86</td>\n",
       "    </tr>\n",
       "    <tr>\n",
       "      <th>23</th>\n",
       "      <td>West Kameng</td>\n",
       "      <td>3194</td>\n",
       "      <td>3010</td>\n",
       "      <td>184</td>\n",
       "    </tr>\n",
       "    <tr>\n",
       "      <th>24</th>\n",
       "      <td>West Siang</td>\n",
       "      <td>1725</td>\n",
       "      <td>1669</td>\n",
       "      <td>56</td>\n",
       "    </tr>\n",
       "  </tbody>\n",
       "</table>\n",
       "</div>"
      ],
      "text/plain": [
       "          district_name  num_confirmed  num_recovered  num_unrecovered\n",
       "0                 Anjaw            985            934               51\n",
       "1             Changlang           3621           3530               91\n",
       "2           East Kameng           1066           1031               35\n",
       "3            East Siang           2936           2817              119\n",
       "4                 Kamle            460            400               60\n",
       "5             Kra Daadi            256            249                7\n",
       "6          Kurung Kumey            507            504                3\n",
       "7             Lepa Rada            762            719               43\n",
       "8                 Lohit           2656           2486              170\n",
       "9              Longding            728            712               16\n",
       "10  Lower Dibang Valley           2147           2049               98\n",
       "11          Lower Siang            703            645               58\n",
       "12      Lower Subansiri           2610           2266              344\n",
       "13               Namsai           1958           1895               63\n",
       "14        Pakke Kessang            390            381                9\n",
       "15           Papum Pare          17113          16182              931\n",
       "16             Shi Yomi            221            196               25\n",
       "17                Siang            393            363               30\n",
       "18               Tawang           2283           2151              132\n",
       "19                Tirap           1005            982               23\n",
       "20  Upper Dibang Valley            290            262               28\n",
       "21          Upper Siang            881            804               77\n",
       "22      Upper Subansiri           1903           1817               86\n",
       "23          West Kameng           3194           3010              184\n",
       "24           West Siang           1725           1669               56"
      ]
     },
     "execution_count": 72,
     "metadata": {},
     "output_type": "execute_result"
    }
   ],
   "source": [
    "# Q6. calculate num of unrecovered from df and make a column called \"num_unrecovered\" to store that information\n",
    "df['num_unrecovered']= df['num_confirmed'] - df['num_recovered']\n",
    "df.to_csv('sample_data.csv', index = False)\n",
    "df"
   ]
  },
  {
   "cell_type": "code",
   "execution_count": 86,
   "id": "bd04c9d3-7798-4a0b-9d11-8ce186f06b6d",
   "metadata": {},
   "outputs": [
    {
     "data": {
      "text/html": [
       "<div>\n",
       "<style scoped>\n",
       "    .dataframe tbody tr th:only-of-type {\n",
       "        vertical-align: middle;\n",
       "    }\n",
       "\n",
       "    .dataframe tbody tr th {\n",
       "        vertical-align: top;\n",
       "    }\n",
       "\n",
       "    .dataframe thead th {\n",
       "        text-align: right;\n",
       "    }\n",
       "</style>\n",
       "<table border=\"1\" class=\"dataframe\">\n",
       "  <thead>\n",
       "    <tr style=\"text-align: right;\">\n",
       "      <th></th>\n",
       "      <th>district_name</th>\n",
       "      <th>num_confirmed</th>\n",
       "      <th>num_recovered</th>\n",
       "      <th>num_unrecovered</th>\n",
       "    </tr>\n",
       "  </thead>\n",
       "  <tbody>\n",
       "    <tr>\n",
       "      <th>0</th>\n",
       "      <td>Papum Pare</td>\n",
       "      <td>17113</td>\n",
       "      <td>16182</td>\n",
       "      <td>931</td>\n",
       "    </tr>\n",
       "    <tr>\n",
       "      <th>1</th>\n",
       "      <td>Lower Subansiri</td>\n",
       "      <td>2610</td>\n",
       "      <td>2266</td>\n",
       "      <td>344</td>\n",
       "    </tr>\n",
       "    <tr>\n",
       "      <th>2</th>\n",
       "      <td>West Kameng</td>\n",
       "      <td>3194</td>\n",
       "      <td>3010</td>\n",
       "      <td>184</td>\n",
       "    </tr>\n",
       "  </tbody>\n",
       "</table>\n",
       "</div>"
      ],
      "text/plain": [
       "     district_name  num_confirmed  num_recovered  num_unrecovered\n",
       "0       Papum Pare          17113          16182              931\n",
       "1  Lower Subansiri           2610           2266              344\n",
       "2      West Kameng           3194           3010              184"
      ]
     },
     "execution_count": 86,
     "metadata": {},
     "output_type": "execute_result"
    }
   ],
   "source": [
    "# Q7. create a user defined function to return dictionary that has top 3 district_name, num_unrecovered\n",
    "sorted_df = df.sort_values(by='num_unrecovered', ascending = False)\n",
    "top_three = sorted_df[0:3].reset_index(drop = True)\n",
    "top_three"
   ]
  },
  {
   "cell_type": "code",
   "execution_count": 90,
   "id": "d887611d-a8cb-4389-9d08-aba3de3d30c9",
   "metadata": {},
   "outputs": [
    {
     "data": {
      "text/plain": [
       "'Papum Pare'"
      ]
     },
     "execution_count": 90,
     "metadata": {},
     "output_type": "execute_result"
    }
   ],
   "source": [
    "top_three.loc[0, 'district_name']"
   ]
  },
  {
   "cell_type": "code",
   "execution_count": 80,
   "id": "71c17f66-938f-4548-b955-207314a68b4f",
   "metadata": {},
   "outputs": [
    {
     "data": {
      "text/plain": [
       "{'Papum Pare': 931, 'Lower Subansiri': 344, 'West Kameng': 184}"
      ]
     },
     "execution_count": 80,
     "metadata": {},
     "output_type": "execute_result"
    }
   ],
   "source": [
    "{'Papum Pare':931, 'Lower Subansiri':344, 'West Kameng':184}"
   ]
  },
  {
   "cell_type": "code",
   "execution_count": 102,
   "id": "b478f15a-9dde-4329-b8dd-a304e45b1465",
   "metadata": {},
   "outputs": [],
   "source": [
    "def top_3():\n",
    "    sorted_df = df.sort_values(by='num_unrecovered', ascending = False)\n",
    "    top_three = sorted_df[0:3].reset_index(drop = True)\n",
    "#    top_3 = {}\n",
    "    \n",
    "#    first = top_three.loc[0, 'district_name']\n",
    "#    top_3[first] = top_three.loc[0, 'num_unrecovered']\n",
    "    \n",
    "#    second = top_three.loc[1, 'district_name']\n",
    "#    top_3[second] = top_three.loc[1, 'num_unrecovered']\n",
    "    \n",
    "#    third = top_three.loc[2, 'district_name']\n",
    "#    top_3[third] = top_three.loc[2, 'num_unrecovered']\n",
    "    \n",
    "#    return top_3\n",
    "    return {top_three.loc[0, 'district_name']:top_three.loc[0, 'num_unrecovered'],\n",
    "            top_three.loc[1, 'district_name']:top_three.loc[1, 'num_unrecovered'],\n",
    "            top_three.loc[2, 'district_name']:top_three.loc[2, 'num_unrecovered']\n",
    "           }"
   ]
  },
  {
   "cell_type": "code",
   "execution_count": 103,
   "id": "0a107cec-a81f-4fad-b507-a7835055b3b6",
   "metadata": {},
   "outputs": [
    {
     "data": {
      "text/plain": [
       "{'Papum Pare': 931, 'Lower Subansiri': 344, 'West Kameng': 184}"
      ]
     },
     "execution_count": 103,
     "metadata": {},
     "output_type": "execute_result"
    }
   ],
   "source": [
    "top_3()"
   ]
  }
 ],
 "metadata": {
  "kernelspec": {
   "display_name": "Python 3 (ipykernel)",
   "language": "python",
   "name": "python3"
  },
  "language_info": {
   "codemirror_mode": {
    "name": "ipython",
    "version": 3
   },
   "file_extension": ".py",
   "mimetype": "text/x-python",
   "name": "python",
   "nbconvert_exporter": "python",
   "pygments_lexer": "ipython3",
   "version": "3.10.9"
  }
 },
 "nbformat": 4,
 "nbformat_minor": 5
}
